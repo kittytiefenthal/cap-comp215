{
  "nbformat": 4,
  "nbformat_minor": 0,
  "metadata": {
    "colab": {
      "name": "week5.ipynb",
      "provenance": [],
      "include_colab_link": true
    },
    "kernelspec": {
      "name": "python3",
      "display_name": "Python 3"
    },
    "language_info": {
      "name": "python"
    }
  },
  "cells": [
    {
      "cell_type": "markdown",
      "metadata": {
        "id": "view-in-github",
        "colab_type": "text"
      },
      "source": [
        "<a href=\"https://colab.research.google.com/github/kittytiefenthal/cap-comp215/blob/main/examples/week5.ipynb\" target=\"_parent\"><img src=\"https://colab.research.google.com/assets/colab-badge.svg\" alt=\"Open In Colab\"/></a>"
      ]
    },
    {
      "cell_type": "markdown",
      "source": [
        "# Cellular Automata\n",
        "This is our week 5 examples notebook and will be available on Github from the powderflask/cap-comp215 repository.\n",
        "\n",
        "As usual, the first code block just imports the modules we will use."
      ],
      "metadata": {
        "id": "WBMC0GrjNRTM"
      }
    },
    {
      "cell_type": "code",
      "execution_count": 2,
      "outputs": [],
      "source": [
        "import matplotlib.pyplot as plt\n",
        "import numpy as np\n",
        "%matplotlib inline"
      ],
      "metadata": {
        "pycharm": {
          "name": "#%%\n"
        },
        "id": "MM7nuJUY-IKM"
      }
    },
    {
      "cell_type": "markdown",
      "source": [
        "## Zero-dimensional CA\n",
        "Here's a simple implementation of the 0-D CA mentioned in the book.\n",
        "This CA is a single scalar value and a rule for computing its state-transition in the next time step.\n",
        "The rule we use below is:  add 1 to previous state and take remainder of division by 2\n",
        "We can express this rule concisely as:  $ state[t+1] = (state[t] + 1)\\mod2 $"
      ],
      "metadata": {
        "collapsed": false,
        "pycharm": {
          "name": "#%% md\n"
        },
        "id": "cURcMqdi-IKR"
      }
    },
    {
      "cell_type": "code",
      "execution_count": 3,
      "outputs": [
        {
          "output_type": "execute_result",
          "data": {
            "text/plain": [
              "[0, 1, 0, 1, 0, 1, 0, 1, 0, 1, 0]"
            ]
          },
          "metadata": {},
          "execution_count": 3
        }
      ],
      "source": [
        "ca_state = 0  # initial state for the CA\n",
        "rule = lambda state: (state + 1) % 2   # the \"rule\" for computing the CA state in next timestep.\n",
        "\n",
        "# Run a simulation of the CA with given rule\n",
        "n_steps = 10                              # number of time steps to run the CA simulation\n",
        "ca_timesteps = [ca_state,] + [0]*n_steps  # create an \"empty\" state for each time step\n",
        "for t in range(n_steps):\n",
        "    ca_timesteps[t+1] = rule(ca_timesteps[t])\n",
        "ca_timesteps"
      ],
      "metadata": {
        "pycharm": {
          "name": "#%%\n"
        },
        "id": "1XIgcvIy-IKT",
        "outputId": "21dd5711-5e5e-4c57-fa46-0f102776bec7",
        "colab": {
          "base_uri": "https://localhost:8080/"
        }
      }
    },
    {
      "cell_type": "markdown",
      "source": [
        "What is this CA's behaviour?   **It \"blinks\"!**\n",
        "\n",
        "Notice how we are using a 1-D list to capture the state of the CA over time, making it easy to visualize the behaviour arising from its rule.\n",
        "Thus, the value of `timesteps[t]` is the state of the CA at time `t`."
      ],
      "metadata": {
        "collapsed": false,
        "pycharm": {
          "name": "#%% md\n"
        },
        "id": "7cVq6cIq-IKW"
      }
    },
    {
      "cell_type": "markdown",
      "source": [
        "## One-dimensional CA\n",
        "The state of a 1-D CA is represented as a vector (a list of numbers).  Each value in the CA is called a **cell**.\n",
        "As in the 0-D case, a rule defines the CA behaviour over time:  $ ca[t+1] = f( ca[t] ) $\n",
        "\n",
        "**Remember**: a 1-D CA is a **vector** representing the **state** of the CA, and a **rule** defining the **state transition** to the next timestep.\n",
        "\n",
        "In the following example, the rule is:  sum up immediate neighbours and take mod 2"
      ],
      "metadata": {
        "collapsed": false,
        "pycharm": {
          "name": "#%% md\n"
        },
        "id": "bovmjkBt-IKY"
      }
    },
    {
      "cell_type": "code",
      "execution_count": 4,
      "outputs": [
        {
          "output_type": "execute_result",
          "data": {
            "text/plain": [
              "[[0, 0, 0, 0, 0, 1, 0, 0, 0, 0, 0],\n",
              " [0, 0, 0, 0, 1, 1, 1, 0, 0, 0, 0],\n",
              " [0, 0, 0, 1, 0, 1, 0, 1, 0, 0, 0],\n",
              " [0, 0, 1, 1, 0, 1, 0, 1, 1, 0, 0],\n",
              " [0, 1, 0, 0, 0, 1, 0, 0, 0, 1, 0],\n",
              " [0, 1, 1, 0, 1, 1, 1, 0, 1, 1, 0]]"
            ]
          },
          "metadata": {},
          "execution_count": 4
        }
      ],
      "source": [
        "ca_state = [0, 0, 0, 0, 0, 1, 0, 0, 0, 0, 0]   # initial state for a 1-D CA\n",
        "rule = lambda neighbours: sum(neighbours) % 2   # the \"rule\" for transition to next state for one cell in the CA.\n",
        "\n",
        "def step(state):\n",
        "    \"\"\" Return next state for given CA state after one time step \"\"\"\n",
        "    next = [0]*len(state)  # an \"empty\" list to hold the next state\n",
        "    for i in range(1, len(state)-1):\n",
        "        neighbours = state[i-1:i+2]\n",
        "        next[i] = rule(neighbours)\n",
        "    return next\n",
        "\n",
        "# Run a simulation of the CA with given rule\n",
        "n_steps = 5\n",
        "ca_timesteps = [ca_state,] + [[]]*n_steps  # Create a \"stack\" - one state vector for each time step!\n",
        "for t in range(n_steps):\n",
        "    ca_timesteps[t+1] = step(ca_timesteps[t])\n",
        "\n",
        "ca_timesteps"
      ],
      "metadata": {
        "pycharm": {
          "name": "#%%\n"
        },
        "id": "LEdcCWPM-IKZ",
        "outputId": "4e3f00ac-ce3f-44dd-ae24-335a29db7659",
        "colab": {
          "base_uri": "https://localhost:8080/"
        }
      }
    },
    {
      "cell_type": "markdown",
      "source": [
        "## numpy.array\n",
        "`numpy.array` is an n-dimensional numeric object with efficient matrix operations built-in.\n",
        "We can create an `array` of zeros by supplying a tuple with its dimensions, and it's data type (`dtype`):"
      ],
      "metadata": {
        "collapsed": false,
        "id": "hWhKUY_P-IKb"
      }
    },
    {
      "cell_type": "code",
      "execution_count": 5,
      "outputs": [
        {
          "output_type": "stream",
          "name": "stdout",
          "text": [
            "numpy.array has type: <class 'numpy.ndarray'> and dimensions (5, 11)\n"
          ]
        },
        {
          "output_type": "execute_result",
          "data": {
            "text/plain": [
              "array([[0, 0, 0, 0, 0, 0, 0, 0, 0, 0, 0],\n",
              "       [0, 0, 0, 0, 0, 0, 0, 0, 0, 0, 0],\n",
              "       [0, 0, 0, 0, 0, 0, 0, 0, 0, 0, 0],\n",
              "       [0, 0, 0, 0, 0, 0, 0, 0, 0, 0, 0],\n",
              "       [0, 0, 0, 0, 0, 0, 0, 0, 0, 0, 0]], dtype=uint8)"
            ]
          },
          "metadata": {},
          "execution_count": 5
        }
      ],
      "source": [
        "rows = 5\n",
        "cols = 11\n",
        "array = np.zeros((rows, cols), dtype=np.uint8)\n",
        "print(f'numpy.array has type: {type(array)} and dimensions {array.shape}')\n",
        "array"
      ],
      "metadata": {
        "pycharm": {
          "name": "#%%\n"
        },
        "id": "f95xtSyR-IKd",
        "outputId": "868947ac-1cdc-4293-ca4d-14d586d96e82",
        "colab": {
          "base_uri": "https://localhost:8080/"
        }
      }
    },
    {
      "cell_type": "markdown",
      "source": [
        "### 1-D CA using a numpy.array\n",
        "Here is the same example CA above coded using a `numpy.array`.\n",
        "We \"vertically stack\" the intial CA state onto an array of timesteps (just zeros to start).\n",
        "Notice the first array dimension (rows) gives the number of timesteps in our simulation, and the second dimension (cols) is the size of the CA."
      ],
      "metadata": {
        "collapsed": false,
        "id": "rTWwlt7e-IKg"
      }
    },
    {
      "cell_type": "code",
      "execution_count": 6,
      "outputs": [
        {
          "output_type": "execute_result",
          "data": {
            "text/plain": [
              "array([[0, 0, 0, 0, 0, 1, 0, 0, 0, 0, 0],\n",
              "       [0, 0, 0, 0, 1, 1, 1, 0, 0, 0, 0],\n",
              "       [0, 0, 0, 1, 0, 1, 0, 1, 0, 0, 0],\n",
              "       [0, 0, 1, 1, 0, 1, 0, 1, 1, 0, 0],\n",
              "       [0, 1, 0, 0, 0, 1, 0, 0, 0, 1, 0],\n",
              "       [0, 1, 1, 0, 1, 1, 1, 0, 1, 1, 0]])"
            ]
          },
          "metadata": {},
          "execution_count": 6
        }
      ],
      "source": [
        "ca_state = np.array((0, 0, 0, 0, 0, 1, 0, 0, 0, 0, 0))   # initial state for a 1-D CA\n",
        "\n",
        "n_steps = 5\n",
        "ca_timesteps = np.vstack([ca_state, np.zeros((n_steps, len(ca_state)), dtype=np.uint8)])\n",
        "\n",
        "rule = lambda neighbours: sum(neighbours) % 2   # same \"rule\" for computing next state for one cell in the CA.\n",
        "\n",
        "def step(state):\n",
        "    \"\"\" Return next state for given CA state after one time step \"\"\"\n",
        "    next = np.zeros_like(state)\n",
        "    for i in range(1, len(state)-1):\n",
        "        next[i] = rule(state[i-1:i+2])\n",
        "    return next\n",
        "\n",
        "# Run a simulation of the CA with given rule\n",
        "for t in range(n_steps):\n",
        "    ca_timesteps[t+1] = step(ca_timesteps[t])\n",
        "ca_timesteps"
      ],
      "metadata": {
        "pycharm": {
          "name": "#%%\n"
        },
        "id": "NNDz7WKw-IKh",
        "outputId": "a290c2ea-e911-49a4-a685-1fbb1f72154d",
        "colab": {
          "base_uri": "https://localhost:8080/"
        }
      }
    },
    {
      "cell_type": "markdown",
      "source": [
        "## Visualizing the CA simulation\n",
        "A table of numbers makes it hard to visualize the CA behaviour.\n",
        "`pyplot` to the rescue!\n",
        "An image is just a rectangular grid of numbers, so any 2D matrix can be visualized as an image..."
      ],
      "metadata": {
        "collapsed": false,
        "pycharm": {
          "name": "#%% md\n"
        },
        "id": "C8jg-Pae-IKj"
      }
    },
    {
      "cell_type": "code",
      "execution_count": 7,
      "outputs": [
        {
          "output_type": "execute_result",
          "data": {
            "text/plain": [
              "<matplotlib.image.AxesImage at 0x7fe8304f0160>"
            ]
          },
          "metadata": {},
          "execution_count": 7
        },
        {
          "output_type": "display_data",
          "data": {
            "text/plain": [
              "<Figure size 432x288 with 1 Axes>"
            ],
            "image/png": "[encoded data removed]"
          },
          "metadata": {
            "needs_background": "light"
          }
        }
      ],
      "source": [
        "plt.imshow(ca_timesteps, cmap='Blues', interpolation='none')"
      ],
      "metadata": {
        "pycharm": {
          "name": "#%%\n"
        },
        "id": "x1pmmPLt-IKj",
        "outputId": "c4a0c377-8163-40ab-e755-c494df89526f",
        "colab": {
          "base_uri": "https://localhost:8080/",
          "height": 248
        }
      }
    },
    {
      "cell_type": "markdown",
      "source": [
        "As usual, let's create a small abstraction to hide some of the details..."
      ],
      "metadata": {
        "collapsed": false,
        "pycharm": {
          "name": "#%% md\n"
        },
        "id": "cKOqsjQb-IKm"
      }
    },
    {
      "cell_type": "code",
      "execution_count": 8,
      "outputs": [],
      "source": [
        "def plot_ca(array, title=''):\n",
        "    \"\"\" Plot the 2D CA state-over-time array as an image.  1's will be dark blue, 0's will be light blue. \"\"\"\n",
        "    plt.title(title)\n",
        "    plt.xticks([])            # turn off x-axis tick marks\n",
        "    plt.ylabel('Time Steps')  # label y-axis to remind us time runs from top to bottom\n",
        "    plt.imshow(array, cmap='Blues', interpolation='none')"
      ],
      "metadata": {
        "pycharm": {
          "name": "#%%\n"
        },
        "id": "khKczWZD-IKn"
      }
    },
    {
      "cell_type": "code",
      "execution_count": 9,
      "outputs": [
        {
          "output_type": "display_data",
          "data": {
            "text/plain": [
              "<Figure size 432x288 with 1 Axes>"
            ],
            "image/png": "[encoded data removed]"
          },
          "metadata": {
            "needs_background": "light"
          }
        }
      ],
      "source": [
        "plot_ca(ca_timesteps, title=f'{n_steps} time steps of \"mod 2\" CA')"
      ],
      "metadata": {
        "pycharm": {
          "name": "#%%\n"
        },
        "id": "UO9J_3El-IKo",
        "outputId": "5a2faaee-d41b-4e78-bfea-3634f3a96fb2",
        "colab": {
          "base_uri": "https://localhost:8080/",
          "height": 233
        }
      }
    },
    {
      "cell_type": "markdown",
      "source": [],
      "metadata": {
        "collapsed": false,
        "id": "rfRqxXe1-IKp"
      }
    },
    {
      "cell_type": "markdown",
      "source": [
        "# Efficient Representations for Elementary Cellular Automata\n",
        "\n",
        "For all **Elementary CA**, the rule has the form:   $ ca[i]_{t+1} = f(ca[i-1..i+1]_t) $\n",
        "In words: the next state for cell i is a function of immediate 3-cell neighbourhood."
      ],
      "metadata": {
        "collapsed": false,
        "pycharm": {
          "name": "#%% md\n"
        },
        "id": "0mmAevn--IKp"
      }
    },
    {
      "cell_type": "markdown",
      "source": [
        "## Counting: how many unique states for a 3-cell neighbourhood?\n",
        "Wolfram's elementary CA's use a 3-cell neighbourhood, where each cell is \"on\" or \"off\".\n",
        "How many possible unique neighbourhood states are there?"
      ],
      "metadata": {
        "collapsed": false,
        "id": "bL5gEwWW-IKq"
      }
    },
    {
      "cell_type": "code",
      "execution_count": 10,
      "outputs": [
        {
          "output_type": "stream",
          "name": "stdout",
          "text": [
            "Number of unique neighbourhood states for 2 state CA with neighbourhood size 3: 8\n"
          ]
        },
        {
          "output_type": "execute_result",
          "data": {
            "text/plain": [
              "[(0, 0, 0),\n",
              " (0, 0, 1),\n",
              " (0, 1, 0),\n",
              " (0, 1, 1),\n",
              " (1, 0, 0),\n",
              " (1, 0, 1),\n",
              " (1, 1, 0),\n",
              " (1, 1, 1)]"
            ]
          },
          "metadata": {},
          "execution_count": 10
        }
      ],
      "source": [
        "size_of_neighbourhood = 3            # for Wolfram's set of simple CA's\n",
        "n_states_for_one_cell = 2            # on or off\n",
        "n_neighbourhood_states = n_states_for_one_cell ** size_of_neighbourhood    # 2**3 == 8\n",
        "\n",
        "print(f'Number of unique neighbourhood states for {n_states_for_one_cell} state CA with neighbourhood size {size_of_neighbourhood}: {n_neighbourhood_states}')\n",
        "\n",
        "bit = (0,1)\n",
        "all_possible_neighbourhood_states = [(i,j,k) for i in bit for j in bit for k in bit]\n",
        "all_possible_neighbourhood_states"
      ],
      "metadata": {
        "pycharm": {
          "name": "#%%\n"
        },
        "id": "qlJnEzmQ-IKr",
        "outputId": "b72d15ce-2daf-42c3-aac0-29683888356f",
        "colab": {
          "base_uri": "https://localhost:8080/"
        }
      }
    },
    {
      "cell_type": "code",
      "source": [
        "'''In Class Exercise'''\n",
        "\n",
        "#enumerate\n",
        "a = ['a','b','c']\n",
        "b = [1,2,3]\n",
        "list(zip(a,b))  \n",
        "\n",
        "list(enumerate(a)) #ties a to its index\n"
      ],
      "metadata": {
        "id": "U-epsrahDxK0",
        "outputId": "d25fe00b-783d-4c73-96d3-47bc8d8e4f77",
        "colab": {
          "base_uri": "https://localhost:8080/"
        }
      },
      "execution_count": 24,
      "outputs": [
        {
          "output_type": "execute_result",
          "data": {
            "text/plain": [
              "[(0, 'a'), (1, 'b'), (2, 'c')]"
            ]
          },
          "metadata": {},
          "execution_count": 24
        }
      ]
    },
    {
      "cell_type": "markdown",
      "source": [
        "## Binary to Decimal\n",
        "A sequence of 3 zero's and one's can be interpreted as a binary number in the range [0..7]\n",
        "We can easily convert a sequence of N bits like this to its decimal equivalent:\n",
        "$ decimal = \\sum_{i=0}^{N-1} bit_{i} \\cdot 2^i $"
      ],
      "metadata": {
        "collapsed": false,
        "pycharm": {
          "name": "#%% md\n"
        },
        "id": "VJo2icbl-IKu"
      }
    },
    {
      "cell_type": "code",
      "execution_count": 11,
      "outputs": [
        {
          "output_type": "stream",
          "name": "stdout",
          "text": [
            "Binary 110 == 6 Decimal\n"
          ]
        }
      ],
      "source": [
        "bin = (1, 1 , 0)\n",
        "# enumerate the digits in reverse order so low-order 'bit' is paried with exponent 0\n",
        "n = sum(bit*2**i for i,bit in enumerate(reversed(bin)))\n",
        "print(f\"Binary {''.join(str(b) for b in bin)} == {n} Decimal\")"
      ],
      "metadata": {
        "pycharm": {
          "name": "#%%\n"
        },
        "id": "Mq1Zhcbo-IKw",
        "outputId": "ed75c68a-39be-4985-cd26-43ec1444e8ee",
        "colab": {
          "base_uri": "https://localhost:8080/"
        }
      }
    },
    {
      "cell_type": "markdown",
      "source": [
        "as usual, let's create a little abstraction around our initial binary-to-decimal algorithm up so we can test and re-use it..."
      ],
      "metadata": {
        "collapsed": false,
        "pycharm": {
          "name": "#%% md\n"
        },
        "id": "cfPLiWms-IKx"
      }
    },
    {
      "cell_type": "code",
      "execution_count": 12,
      "outputs": [],
      "source": [
        "def bin_to_dec1(bin):\n",
        "    \"\"\" Convert sequence of binary digits to decimal number.  bin[0] is high-order bit. \"\"\"\n",
        "    return sum(bit*2**i for i,bit in enumerate(reversed(bin)))\n",
        "\n",
        "assert bin_to_dec1((1, 1, 0)) == 6"
      ],
      "metadata": {
        "pycharm": {
          "name": "#%%\n"
        },
        "id": "gvDfUqCD-IK0"
      }
    },
    {
      "cell_type": "markdown",
      "source": [
        "## Representing a 'rule' using a lookup table (map)\n",
        "An simple and efficient way to represent a \"rule\" for elementary CA is as a lookup table of the 8 possible transitions or \"next\" states."
      ],
      "metadata": {
        "collapsed": false,
        "id": "6pJWQGg0-IK3"
      }
    },
    {
      "cell_type": "code",
      "execution_count": 13,
      "outputs": [
        {
          "output_type": "execute_result",
          "data": {
            "text/plain": [
              "'next_state for centre cell in (0, 1, 0) is 0'"
            ],
            "application/vnd.google.colaboratory.intrinsic+json": {
              "type": "string"
            }
          },
          "metadata": {},
          "execution_count": 13
        }
      ],
      "source": [
        "mod_2_rule = (0, 1, 0, 1, 0, 1, 0, 1)\n",
        "neighbourhood = (0, 1, 0)\n",
        "index = bin_to_dec1(neighbourhood)\n",
        "next_state = mod_2_rule[index]\n",
        "f'next_state for centre cell in {neighbourhood} is {next_state}'"
      ],
      "metadata": {
        "pycharm": {
          "name": "#%%\n"
        },
        "id": "H5XU9rJu-IK5",
        "outputId": "3ec3d831-fd39-4dd4-906a-5769e895b9f9",
        "colab": {
          "base_uri": "https://localhost:8080/",
          "height": 35
        }
      }
    },
    {
      "cell_type": "markdown",
      "source": [
        "### How does it work?\n",
        "* encode the rule as list with 8 values, each the next centre cell state for one of the 8 possible neighbourhood states.\n",
        "* interpret a 3-bit neighbourhood for a cell as a binary integer: [0..7]\n",
        "* use this as an **index** to look up the correct transition (next cell value) from the rule."
      ],
      "metadata": {
        "collapsed": false,
        "pycharm": {
          "name": "#%% md\n"
        },
        "id": "IFEpSUmh-IK6"
      }
    },
    {
      "cell_type": "code",
      "execution_count": 14,
      "outputs": [
        {
          "output_type": "stream",
          "name": "stdout",
          "text": [
            "Rule 21: (1, 0, 1, 0, 1, 0, 0, 0)\n"
          ]
        },
        {
          "output_type": "execute_result",
          "data": {
            "text/plain": [
              "'next state for (1, 0, 1), encoded at index 5, is: 0'"
            ],
            "application/vnd.google.colaboratory.intrinsic+json": {
              "type": "string"
            }
          },
          "metadata": {},
          "execution_count": 14
        }
      ],
      "source": [
        "bin_21 = (0,0,0,1,0,1,0,1)     # binary encoding for 21\n",
        "rule_21 =  bin_21[::-1]        # reversed (again, so low-order rule is at index 0)\n",
        "\n",
        "neighbourhood = (1,0,1)        # just an example - try diffrent neighbourhood configurations to see how \"rule 21\" works\n",
        "index = bin_to_dec1(neighbourhood)\n",
        "next_state = rule_21[index]\n",
        "\n",
        "print(\"Rule 21:\", rule_21)\n",
        "f'next state for {neighbourhood}, encoded at index {index}, is: {next_state}'"
      ],
      "metadata": {
        "pycharm": {
          "name": "#%%\n"
        },
        "id": "GJgjXI7z-IK7",
        "outputId": "1784b5c0-aff4-4c13-f8b4-162c6d2a26bf",
        "colab": {
          "base_uri": "https://localhost:8080/",
          "height": 53
        }
      }
    },
    {
      "cell_type": "markdown",
      "source": [
        "## More Counting: how many rules?\n",
        "If a rule can be encoded with 8 \"bits\", then how many unique rules are there?"
      ],
      "metadata": {
        "collapsed": false,
        "id": "ujMUgLdp-IK8"
      }
    },
    {
      "cell_type": "code",
      "execution_count": 15,
      "outputs": [
        {
          "output_type": "stream",
          "name": "stdout",
          "text": [
            "Number of rules for 2 state CA with neighbourhood size 3: 256\n"
          ]
        },
        {
          "output_type": "execute_result",
          "data": {
            "text/plain": [
              "[(0, 0, 0, 0, 0, 0, 0, 0),\n",
              " (0, 0, 0, 0, 0, 0, 0, 1),\n",
              " (0, 0, 0, 0, 0, 0, 1, 0),\n",
              " (0, 0, 0, 0, 0, 0, 1, 1),\n",
              " (0, 0, 0, 0, 0, 1, 0, 0),\n",
              " (0, 0, 0, 0, 0, 1, 0, 1),\n",
              " (0, 0, 0, 0, 0, 1, 1, 0),\n",
              " (0, 0, 0, 0, 0, 1, 1, 1),\n",
              " (0, 0, 0, 0, 1, 0, 0, 0),\n",
              " (0, 0, 0, 0, 1, 0, 0, 1)]"
            ]
          },
          "metadata": {},
          "execution_count": 15
        }
      ],
      "source": [
        "n_rules = n_states_for_one_cell ** n_neighbourhood_states\n",
        "print(f'Number of rules for {n_states_for_one_cell} state CA with neighbourhood size {size_of_neighbourhood}: {n_rules}')\n",
        "\n",
        "rules = [(b0,b1,b2,b3,b4,b5,b6,b7)\n",
        "            for b0 in bit for b1 in bit for b2 in bit for b3 in bit for b4 in bit for b5 in bit for b6 in bit for b7 in bit\n",
        "        ]\n",
        "rules[:10]"
      ],
      "metadata": {
        "pycharm": {
          "name": "#%%\n"
        },
        "id": "kshwZHIf-IK9",
        "outputId": "e98bbbea-6027-4ac2-d1d8-901c5c8b7535",
        "colab": {
          "base_uri": "https://localhost:8080/"
        }
      }
    },
    {
      "cell_type": "markdown",
      "source": [
        "## Naming the Elementary Cellular Automata\n",
        "Each elementary CA is named for its rule.\n",
        "Since there are 256 possible rules, these CA's are named **0** thru **255**\n",
        "The first 10 rules are show above.  To get their names, we need only convert the rule to decimal:"
      ],
      "metadata": {
        "collapsed": false,
        "pycharm": {
          "name": "#%% md\n"
        },
        "id": "RLgAnVr--IK_"
      }
    },
    {
      "cell_type": "code",
      "execution_count": 16,
      "outputs": [
        {
          "output_type": "execute_result",
          "data": {
            "text/plain": [
              "\"The Elementary CA's are named: [0, 1, 2, 3, 4]...[251, 252, 253, 254, 255]\""
            ],
            "application/vnd.google.colaboratory.intrinsic+json": {
              "type": "string"
            }
          },
          "metadata": {},
          "execution_count": 16
        }
      ],
      "source": [
        "rule_names = [bin_to_dec1(rule) for rule in rules]\n",
        "f\"The Elementary CA's are named: {rule_names[:5]}...{rule_names[-5:]}\""
      ],
      "metadata": {
        "pycharm": {
          "name": "#%%\n"
        },
        "id": "4eYGfZq8-ILA",
        "outputId": "12caac99-99d8-4157-e2dd-04751138c9ff",
        "colab": {
          "base_uri": "https://localhost:8080/",
          "height": 35
        }
      }
    },
    {
      "cell_type": "markdown",
      "source": [
        "## Binary to Decimal revisited\n",
        "`bin_to_dec1` is very general, but computationally expensive because it computes n-1 exponentiation operations for an n-digit binary number.\n",
        "We can make this more efficient by pre-calculating the powers-of-2.\n",
        "This algorithm is less general because we need to know the max. number of digits.  But if we know, for example, we are always working 3-bit binary sequences, and we may do thousands of such computations, this efficiency gain is worthwhile."
      ],
      "metadata": {
        "collapsed": false,
        "id": "jItb_xCJ-ILB"
      }
    },
    {
      "cell_type": "code",
      "execution_count": 17,
      "outputs": [],
      "source": [
        "POWERS_OF_2 = np.array( (2**2, 2**1, 2**0) )  # take care of reverse ordering here!\n",
        "\n",
        "def bin_to_dec2(bin):\n",
        "    \"\"\" convert 3-digit binary sequence to decimal using pre-computed powers-of-two \"\"\"\n",
        "    assert len(bin) == len(POWERS_OF_2)   # this is the price we pay - we are limited to 3 bit numbers\n",
        "    return sum(bin[i] * POWERS_OF_2[i] for i, digit in enumerate(bin))\n",
        "\n",
        "assert bin_to_dec2((0,1,1)) == 3"
      ],
      "metadata": {
        "pycharm": {
          "name": "#%%\n"
        },
        "id": "pnqRfTWz-ILC"
      }
    },
    {
      "cell_type": "markdown",
      "source": [
        "### Dot-product algorithm\n",
        "The `bin_to_dec2` algorithm sums the result of a vector multiplication:\n",
        "$ decimal = \\sum_{i=0}^{N-1} bit_i \\cdot w_i $    where $ w_i $ repesents the $ i^{th} $ power of 2\n",
        "That general algorithm is called **[dot product](https://en.wikipedia.org/wiki/Dot_product)**\n",
        "([Khan Academy](https://duckduckgo.com/?q=vector+dot+product+site%3Akhanacademy.org) has some good tutorials if you want to learn more about this fundamental concept from Linear Algebra)\n",
        "\n",
        "Let's factor out the dot-product algorithm so we can see what it looks like in general:"
      ],
      "metadata": {
        "collapsed": false,
        "id": "1uJoHfJV-ILD"
      }
    },
    {
      "cell_type": "code",
      "execution_count": 18,
      "outputs": [],
      "source": [
        "def dot_product(a, w):\n",
        "    \"\"\" return the dot product of vectors a and w, to length of w \"\"\"\n",
        "    return sum(a[i]*w[i] for i in range(len(w)))\n",
        "\n",
        "assert dot_product((0,1,1), (4,2,1)) == 3\n",
        "\n",
        "def bin_to_dec3(bin):\n",
        "    \"\"\" convert 3-digit binary sequence to decimal using dot-product with powers-of-two \"\"\"\n",
        "    assert len(bin) == len(POWERS_OF_2)\n",
        "    return dot_product(bin, POWERS_OF_2)\n",
        "\n",
        "assert bin_to_dec3((0,1,1)) == 3\n"
      ],
      "metadata": {
        "pycharm": {
          "name": "#%%\n"
        },
        "id": "wjqMfc6l-ILE"
      }
    },
    {
      "cell_type": "markdown",
      "source": [
        "### Vector Multiplication with numpy.array\n",
        "`numpy.array` defines vector (and matrix) multiplication.\n",
        "So, if we assume the input for `dot_product` is a `numpy.array`, the code is simplified further:"
      ],
      "metadata": {
        "collapsed": false,
        "pycharm": {
          "name": "#%% md\n"
        },
        "id": "oRpFoDmo-ILF"
      }
    },
    {
      "cell_type": "code",
      "execution_count": 19,
      "outputs": [],
      "source": [
        "def dot_product(a, w):\n",
        "    \"\"\" return the dot product of numpy.array a and vector w, to length of w \"\"\"\n",
        "    return sum(a * w)\n",
        "\n",
        "assert dot_product(np.array([0,1,1]), [4,2,1]) == 3\n",
        "\n",
        "def bin_to_dec(bin):\n",
        "    \"\"\" convert 3-digit binary sequence to decimal using dot-product with powers-of-two \"\"\"\n",
        "    assert len(bin) == len(POWERS_OF_2)\n",
        "    return dot_product(bin, POWERS_OF_2)\n",
        "\n",
        "assert bin_to_dec((0,1,1)) == 3\n"
      ],
      "metadata": {
        "pycharm": {
          "name": "#%%\n"
        },
        "id": "wzXqMxOR-ILG"
      }
    },
    {
      "cell_type": "markdown",
      "source": [
        "## Sliding dot product algorithm\n",
        "Now we can compute the entire vector of \"rule indexes\" for a CA by \"sliding\" the `bin_to_dec` algorithm along its vector.\n",
        "This is another **sliding-window** algorithm: compute the CA rule's decimal index for each 3-cell neighbourhood in the CA\n",
        "  * Note that this algorithm is generic, and so can be used to lookup transitions from any of the 256 rules!\n",
        "\n",
        "Note: in continuous systems, like signal processing, the \"sliding dot product\" algorithm is called **[cross correlation](https://en.wikipedia.org/wiki/Cross-correlation)**\n",
        "Thus, in `numpy` this operation is named **[correlate](https://numpy.org/doc/stable/reference/generated/numpy.correlate.html)**"
      ],
      "metadata": {
        "collapsed": false,
        "id": "YUc5G1qo-ILH"
      }
    },
    {
      "cell_type": "code",
      "execution_count": 20,
      "outputs": [
        {
          "output_type": "execute_result",
          "data": {
            "text/plain": [
              "'Indexes to choose next state for [1 1 0 0 1 0 0 0] are: [3 6 4 1 2 4 0 0].'"
            ],
            "application/vnd.google.colaboratory.intrinsic+json": {
              "type": "string"
            }
          },
          "metadata": {},
          "execution_count": 20
        }
      ],
      "source": [
        "def rule_indexes(state):\n",
        "    \"\"\" Return vector of rule indexes - one index for each 3-cell neighbourhood in CA state vector. \"\"\"\n",
        "    indexes = [ bin_to_dec(neighbourhood) for neighbourhood in (state[i-1:i+2] for i in range(1,len(state)-1)) ]\n",
        "    # \"Pad\"\" the CA edges to mitigate edge effects\n",
        "    indexes.insert(0, bin_to_dec((0, state[0], state[1])))\n",
        "    indexes.append(bin_to_dec((state[-2], state[-1], 0)))\n",
        "    return np.array(indexes)\n",
        "\n",
        "assert all( rule_indexes(np.array([1,1,0,0,1,0,0,0])) == [3, 6, 4, 1, 2, 4, 0, 0] )\n",
        "\n",
        "ca_state = np.array([1,1,0,0,1,0,0,0])\n",
        "f'Indexes to choose next state for {ca_state} are: {rule_indexes(ca_state)}.'"
      ],
      "metadata": {
        "pycharm": {
          "name": "#%%\n"
        },
        "id": "Hh8IPJpi-ILI",
        "outputId": "50b29e70-405f-4efc-b9e8-d1e166b312c9",
        "colab": {
          "base_uri": "https://localhost:8080/",
          "height": 35
        }
      }
    },
    {
      "cell_type": "markdown",
      "source": [
        "## Simulating an Elementary CA\n",
        " We now have the foundation to simulate ANY of Wolfram's elementary CA's with its rule defined as 8-bit look up table.\n",
        " * Tip: if the rule is an `np.array`, we could use vector indexing to index a whole row at once:  next_row=rule[indexes]\n",
        " * Tip: use `np.pad(array, n, mode='constant')` to pad array with n zeros on either end, or `mode='wrap'` to \"wrap\" the array ends."
      ],
      "metadata": {
        "collapsed": false,
        "id": "Go1qDJ4e-ILN"
      }
    },
    {
      "cell_type": "code",
      "execution_count": 21,
      "outputs": [
        {
          "output_type": "execute_result",
          "data": {
            "text/plain": [
              "'By rule 110:  [0 0 1 1 1 0 0 0 1 1 0] --> [0 1 1 0 1 0 0 1 1 1 0]'"
            ],
            "application/vnd.google.colaboratory.intrinsic+json": {
              "type": "string"
            }
          },
          "metadata": {},
          "execution_count": 21
        }
      ],
      "source": [
        "def transition(state, rule):\n",
        "    \"\"\" return a np.array for the state transition for given CA under the given 8-bit rule \"\"\"\n",
        "    indexes = rule_indexes(state)\n",
        "    next_state = [rule[i] for i in indexes]\n",
        "    return np.array(next_state)\n",
        "\n",
        "rule_110 = (0,1,1,0,1,1,1,0)[::-1]\n",
        "assert all( transition(np.array((0,0,1,1,1,0,0,0,1,1,0)), rule_110) == (0,1,1,0,1,0,0,1,1,1,0))\n",
        "\n",
        "ca_state = np.array((0,0,1,1,1,0,0,0,1,1,0))\n",
        "f'By rule 110:  {ca_state} --> {transition(ca_state, rule_110)}'"
      ],
      "metadata": {
        "pycharm": {
          "name": "#%%\n"
        },
        "id": "oOXjZeS--ILO",
        "outputId": "1f64651d-7eaf-4804-eb8e-154cc58ef60e",
        "colab": {
          "base_uri": "https://localhost:8080/",
          "height": 35
        }
      }
    },
    {
      "cell_type": "markdown",
      "source": [],
      "metadata": {
        "collapsed": false,
        "id": "qVEiZ4Xh-ILQ"
      }
    },
    {
      "cell_type": "code",
      "execution_count": 22,
      "outputs": [
        {
          "output_type": "display_data",
          "data": {
            "text/plain": [
              "<Figure size 1152x576 with 1 Axes>"
            ],
            "image/png": "[encoded data removed]"
          },
          "metadata": {
            "needs_background": "light"
          }
        }
      ],
      "source": [
        "def simulate_ca(n_cells, n_steps, rule):\n",
        "    \"\"\"\n",
        "    Generate \"classic\" Elementary CA with given number of cells,\n",
        "    simulating progression of given rule for the given number of time steps.\n",
        "    return a 2D array with CA state for 1 time step in each row.\n",
        "    \"\"\"\n",
        "    array = np.zeros((n_steps, n_cells), dtype=np.uint8)  # an array of cells for each timestep\n",
        "    array[0, n_cells//2] = 1                                  # place a 1 in middle of initial state\n",
        "    for t in range(1, n_steps):\n",
        "        array[t] = transition(array[t-1], rule)\n",
        "    return array\n",
        "\n",
        "\n",
        "rule_90 = [0,1,0,1,1,0,1,0][::-1]\n",
        "ca_timesteps = simulate_ca(200, 100, rule_90)\n",
        "plt.subplots(figsize=(16, 8))  # set the size of the plot -- experiment a bit to see what this does.\n",
        "plot_ca(ca_timesteps)"
      ],
      "metadata": {
        "pycharm": {
          "name": "#%%\n"
        },
        "id": "J9N4kgGI-ILQ",
        "outputId": "7a2aa401-9482-4506-c545-64d4bfeed097",
        "colab": {
          "base_uri": "https://localhost:8080/",
          "height": 471
        }
      }
    },
    {
      "cell_type": "code",
      "execution_count": 22,
      "outputs": [],
      "source": [],
      "metadata": {
        "pycharm": {
          "name": "#%%\n"
        },
        "id": "YX2DHL3A-ILR"
      }
    }
  ]
}